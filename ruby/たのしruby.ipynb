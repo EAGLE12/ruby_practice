{
 "cells": [
  {
   "cell_type": "markdown",
   "metadata": {
    "toc": true
   },
   "source": [
    "<h1>Table of Contents<span class=\"tocSkip\"></span></h1>\n",
    "<div class=\"toc\"><ul class=\"toc-item\"><li><span><a href=\"#たのしいRuby\" data-toc-modified-id=\"たのしいRuby-1\"><span class=\"toc-item-num\">1&nbsp;&nbsp;</span>たのしいRuby</a></span><ul class=\"toc-item\"><li><span><a href=\"#Chapter1\" data-toc-modified-id=\"Chapter1-1.1\"><span class=\"toc-item-num\">1.1&nbsp;&nbsp;</span>Chapter1</a></span><ul class=\"toc-item\"><li><span><a href=\"#Rubyを動かす\" data-toc-modified-id=\"Rubyを動かす-1.1.1\"><span class=\"toc-item-num\">1.1.1&nbsp;&nbsp;</span>Rubyを動かす</a></span><ul class=\"toc-item\"><li><span><a href=\"#list1\" data-toc-modified-id=\"list1-1.1.1.1\"><span class=\"toc-item-num\">1.1.1.1&nbsp;&nbsp;</span>list1</a></span></li></ul></li></ul></li><li><span><a href=\"#Chapter2\" data-toc-modified-id=\"Chapter2-1.2\"><span class=\"toc-item-num\">1.2&nbsp;&nbsp;</span>Chapter2</a></span></li></ul></li></ul></div>"
   ]
  },
  {
   "cell_type": "markdown",
   "metadata": {},
   "source": [
    "# たのしいRuby"
   ]
  },
  {
   "cell_type": "markdown",
   "metadata": {},
   "source": [
    "## Chapter1"
   ]
  },
  {
   "cell_type": "markdown",
   "metadata": {},
   "source": [
    "### Rubyを動かす"
   ]
  },
  {
   "cell_type": "markdown",
   "metadata": {},
   "source": [
    "#### list1"
   ]
  },
  {
   "cell_type": "code",
   "execution_count": 1,
   "metadata": {},
   "outputs": [
    {
     "name": "stdout",
     "output_type": "stream",
     "text": [
      "Hello, Ruby\n"
     ]
    }
   ],
   "source": [
    "printf(\"Hello, Ruby\\n\")"
   ]
  },
  {
   "cell_type": "markdown",
   "metadata": {},
   "source": [
    "## Chapter2"
   ]
  },
  {
   "cell_type": "code",
   "execution_count": null,
   "metadata": {
    "collapsed": true
   },
   "outputs": [],
   "source": []
  }
 ],
 "metadata": {
  "kernelspec": {
   "display_name": "Ruby 2.4.3",
   "language": "ruby",
   "name": "ruby"
  },
  "language_info": {
   "file_extension": ".rb",
   "mimetype": "application/x-ruby",
   "name": "ruby",
   "version": "2.4.3"
  },
  "toc": {
   "nav_menu": {},
   "number_sections": true,
   "sideBar": true,
   "skip_h1_title": false,
   "title_cell": "Table of Contents",
   "title_sidebar": "Contents",
   "toc_cell": true,
   "toc_position": {
    "height": "calc(100% - 180px)",
    "left": "10px",
    "top": "150px",
    "width": "220px"
   },
   "toc_section_display": true,
   "toc_window_display": true
  }
 },
 "nbformat": 4,
 "nbformat_minor": 2
}
